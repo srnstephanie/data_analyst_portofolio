{
  "nbformat": 4,
  "nbformat_minor": 0,
  "metadata": {
    "colab": {
      "provenance": []
    },
    "kernelspec": {
      "name": "python3",
      "display_name": "Python 3"
    },
    "language_info": {
      "name": "python"
    }
  },
  "cells": [
    {
      "cell_type": "code",
      "execution_count": null,
      "metadata": {
        "id": "x2MSN-viWneL"
      },
      "outputs": [],
      "source": [
        "from google.colab import auth\n",
        "auth.authenticate_user()\n",
        "\n",
        "from google.auth import default\n",
        "from google.colab import files\n",
        "import gspread\n",
        "from gspread_dataframe import set_with_dataframe\n",
        "from gspread_dataframe import get_as_dataframe\n",
        "import numpy as np\n",
        "import pandas as pd\n",
        "from dateutil.parser import parse\n",
        "\n",
        "creds, _ = default()\n",
        "gc = gspread.authorize(creds)"
      ]
    },
    {
      "cell_type": "code",
      "source": [
        "uploaded = files.upload()"
      ],
      "metadata": {
        "id": "-D1gMsU-Wsgo"
      },
      "execution_count": null,
      "outputs": []
    },
    {
      "cell_type": "code",
      "source": [
        "input_first_date = '2025-06-16'\n",
        "input_last_date = '2025-06-21'"
      ],
      "metadata": {
        "id": "E4fHsLAGWtw3"
      },
      "execution_count": null,
      "outputs": []
    },
    {
      "cell_type": "code",
      "source": [
        "filename = next(iter(uploaded))\n",
        "CT_dashboard_df = pd.read_excel(filename)\n",
        "CT_dashboard_df = CT_dashboard_df[CT_dashboard_df.iloc[:, 1].notna()]\n",
        "CT_dashboard_df[\"Check 1\"] = CT_dashboard_df[\"Total Waktu Di Jalan > 240 Mins\"].apply(lambda x: True if x == \"✅\" else False)\n",
        "CT_dashboard_df[\"Check 2\"] = CT_dashboard_df[\"Mulai > 08:45\"].apply(lambda x: True if x == \"✅\" else False)\n",
        "CT_dashboard_df[\"Check 3\"] = CT_dashboard_df[\"Selesai < 15:00 (untuk Sabtu, <13:30)\"].apply(lambda x: True if x == \"✅\" else False)\n",
        "CT_dashboard_df[\"Check 4\"] = CT_dashboard_df[\"Durasi Kerja < 360 Mins (untuk Sabtu, <300 Min)\"].apply(lambda x: True if x == \"✅\" else False)\n",
        "CT_dashboard_df[\"Check 5\"] = CT_dashboard_df[\"Titik Toko > 5 Di Satu Tempat\"].apply(lambda x: True if x == \"✅\" else False)\n",
        "CT_dashboard_df[\"Check 6\"] = CT_dashboard_df[\"Foto Selfie Buram / Blank\"].apply(lambda x:True if x == \"✅\" else False )\n",
        "CT_dashboard_df[\"Salesman Id\"] = CT_dashboard_df[\"Salesman Id\"].astype(int)"
      ],
      "metadata": {
        "id": "3em0i-sOWuy_"
      },
      "execution_count": null,
      "outputs": []
    },
    {
      "cell_type": "code",
      "source": [
        "spreadsheet_name = [\"R01_SUMUT_CT_2.0\", \"R02_SUMBAR_CT_2.0\", \"R03_SUMTENG_CT_2.0\", \"R04_SUMSEL_CT_2.0\", \"R05_BANTEN_CT_2.0\", \"R06_JABODEBEK_CT_2.0\", \"R07_BANDUNGSUCI_CT_2.0\", \"R08_PANTURA_CT_2.0\", \"R09_PRIANGAN TIMUR_CT_2.0\"\n",
        ", \"R10_JATENG UTARA_CT_2.0\", \"R11_JATENG SELATAN_CT_2.0\", \"R12_JATIM UTARA_CT_2.0\", \"R13_JATIM TENGAH_CT_2.0\", \"R14_JATIM SELATAN_CT_2.0\", \"R15_BALI NUSRA_CT_2.0\", \"R16_KALBARTIM_CT_2.0\", \"R17_KALTENGSEL_CT_2.0\", \"R18_SULAWESI 1_CT_2.0\", \"R19_SULAWESI 2_CT_2.0\", \"R20_SULAWESI 3_CT_2.0\"\n",
        "]\n",
        "\n",
        "# Mapping Bahasa month names to English\n",
        "month_map = {\n",
        "  'Jan': 'Jan', 'Feb': 'Feb', 'Mar': 'Mar', 'Apr': 'Apr', 'Mei': 'May',\n",
        "  'Jun': 'Jun', 'Jul': 'Jul', 'Agu': 'Aug', 'Sep': 'Sep', 'Okt': 'Oct',\n",
        "  'Nov': 'Nov', 'Des': 'Dec'\n",
        "}\n",
        "\n",
        "def translate_month(date_str):\n",
        "    for indo, eng in month_map.items():\n",
        "        if indo in date_str:\n",
        "            return date_str.replace(indo, eng)\n",
        "    return date_str\n",
        "\n",
        "def safe_parse(val):\n",
        "    try:\n",
        "        translated = translate_month(val)\n",
        "        return parse(translated, dayfirst=True)\n",
        "    except (ValueError, TypeError):\n",
        "        return val\n",
        "\n",
        "for name in spreadsheet_name:\n",
        "    spreadsheet = gc.open(name)\n",
        "    sheet = spreadsheet.worksheet(\"Pengerjaan Harian - ASS\")\n",
        "    df = get_as_dataframe(sheet, evaluate_formulas=True)\n",
        "    df.loc[:, 'Unnamed: 2'] = df[\"Unnamed: 2\"].apply(safe_parse)\n",
        "    merged = pd.merge(\n",
        "      df,\n",
        "      CT_dashboard_df[['Date', 'Salesman Id', 'Check 1', 'Check 2', 'Check 3', 'Check 4', 'Check 5', 'Check 6']],\n",
        "      left_on=['Unnamed: 2', 'Unnamed: 7'],\n",
        "      right_on=['Date', 'Salesman Id'],\n",
        "      how='left'\n",
        "    )\n",
        "\n",
        "    df.loc[:, 'Unnamed: 2'] = pd.to_datetime(df['Unnamed: 2'], errors='coerce')\n",
        "\n",
        "    merged['Unnamed: 2'] = pd.to_datetime(merged['Unnamed: 2'], errors='coerce')\n",
        "    df2 = df[\n",
        "      (df['Unnamed: 2'] >= pd.to_datetime(input_first_date)) &\n",
        "      (df['Unnamed: 2'] <= pd.to_datetime(input_last_date))\n",
        "    ]\n",
        "\n",
        "    merged2 = merged[\n",
        "      (merged['Unnamed: 2'] >= pd.to_datetime(input_first_date)) &\n",
        "      (merged['Unnamed: 2'] <= pd.to_datetime(input_last_date))\n",
        "    ]\n",
        "    df2.reset_index(drop=True, inplace=True)\n",
        "    merged2.reset_index(drop=True, inplace=True)\n",
        "\n",
        "    df2.loc[:, 'Unnamed: 9'] = merged2[\"Check 1\"]\n",
        "    df2.loc[:, 'Unnamed: 10'] = merged2[\"Check 2\"]\n",
        "    df2.loc[:, 'Unnamed: 11'] = merged2[\"Check 3\"]\n",
        "    df2.loc[:, 'Unnamed: 12'] = merged2[\"Check 4\"]\n",
        "    df2.loc[:, 'Unnamed: 13'] = merged2[\"Check 5\"]\n",
        "    df2.loc[:, 'Unnamed: 14'] = merged2[\"Check 6\"]\n",
        "\n",
        "    row_index = df[df['Unnamed: 2'] == pd.to_datetime(input_first_date)].index.min()\n",
        "    first_row = row_index+2\n",
        "    last_row = row_index+2-1+len(df2)\n",
        "    data_to_update = df2.loc[:, ['Unnamed: 9', 'Unnamed: 10', 'Unnamed: 11', 'Unnamed: 12', 'Unnamed: 13', 'Unnamed: 14']]\n",
        "    data_to_update = data_to_update.replace([np.nan, np.inf, -np.inf], False)\n",
        "    values = data_to_update.values.tolist()\n",
        "    sheet.update(f'J{first_row}:O{last_row}', values)\n",
        "    emailAddress = \"digitalizationpma@gmail.com\"\n",
        "    sheetId = sheet.id\n",
        "    body = {\n",
        "      \"requests\": [\n",
        "        {\n",
        "            \"addProtectedRange\": {\n",
        "                \"protectedRange\": {\n",
        "                    \"range\": {\n",
        "                        \"sheetId\": sheetId,\n",
        "                        \"startColumnIndex\": 9,\n",
        "                        \"endColumnIndex\": 15\n",
        "                    },\n",
        "                    \"editors\": {\n",
        "                        \"domainUsersCanEdit\": False,\n",
        "                        \"users\": [emailAddress]\n",
        "                    },\n",
        "                    \"warningOnly\": False\n",
        "                }\n",
        "            }\n",
        "        }\n",
        "      ]\n",
        "    }\n",
        "    spreadsheet.batch_update(body)\n",
        "    print(name)\n"
      ],
      "metadata": {
        "id": "8PEhWxeBWwev"
      },
      "execution_count": null,
      "outputs": []
    }
  ]
}